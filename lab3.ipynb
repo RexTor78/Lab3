{
 "cells": [
  {
   "cell_type": "code",
   "execution_count": 1,
   "metadata": {},
   "outputs": [],
   "source": [
    "import pandas as pd\n",
    "import numpy as np"
   ]
  },
  {
   "cell_type": "code",
   "execution_count": 2,
   "metadata": {},
   "outputs": [],
   "source": [
    "data=pd.read_excel('C:\\\\Users\\hecto\\PreWorks\\W1\\Labs/lab2.xlsx')"
   ]
  },
  {
   "cell_type": "code",
   "execution_count": 3,
   "metadata": {},
   "outputs": [
    {
     "data": {
      "text/html": [
       "<div>\n",
       "<style scoped>\n",
       "    .dataframe tbody tr th:only-of-type {\n",
       "        vertical-align: middle;\n",
       "    }\n",
       "\n",
       "    .dataframe tbody tr th {\n",
       "        vertical-align: top;\n",
       "    }\n",
       "\n",
       "    .dataframe thead th {\n",
       "        text-align: right;\n",
       "    }\n",
       "</style>\n",
       "<table border=\"1\" class=\"dataframe\">\n",
       "  <thead>\n",
       "    <tr style=\"text-align: right;\">\n",
       "      <th></th>\n",
       "      <th>Unnamed: 0</th>\n",
       "      <th>Customer</th>\n",
       "      <th>State</th>\n",
       "      <th>Customer Lifetime Value</th>\n",
       "      <th>Response</th>\n",
       "      <th>Coverage</th>\n",
       "      <th>Education</th>\n",
       "      <th>Effective To Date</th>\n",
       "      <th>EmploymentStatus</th>\n",
       "      <th>Gender</th>\n",
       "      <th>...</th>\n",
       "      <th>Number of Open Complaints</th>\n",
       "      <th>Number of Policies</th>\n",
       "      <th>Policy Type</th>\n",
       "      <th>Policy</th>\n",
       "      <th>Renew Offer Type</th>\n",
       "      <th>Sales Channel</th>\n",
       "      <th>Total Claim Amount</th>\n",
       "      <th>Vehicle Class</th>\n",
       "      <th>Vehicle Size</th>\n",
       "      <th>Vehicle Type</th>\n",
       "    </tr>\n",
       "  </thead>\n",
       "  <tbody>\n",
       "    <tr>\n",
       "      <th>0</th>\n",
       "      <td>0</td>\n",
       "      <td>DK49336</td>\n",
       "      <td>Arizona</td>\n",
       "      <td>4809.216960</td>\n",
       "      <td>No</td>\n",
       "      <td>Basic</td>\n",
       "      <td>College</td>\n",
       "      <td>2011-02-18</td>\n",
       "      <td>Employed</td>\n",
       "      <td>M</td>\n",
       "      <td>...</td>\n",
       "      <td>0.0</td>\n",
       "      <td>9</td>\n",
       "      <td>Corporate Auto</td>\n",
       "      <td>Corporate L3</td>\n",
       "      <td>Offer3</td>\n",
       "      <td>Agent</td>\n",
       "      <td>292.800000</td>\n",
       "      <td>Four-Door Car</td>\n",
       "      <td>Medsize</td>\n",
       "      <td>NaN</td>\n",
       "    </tr>\n",
       "    <tr>\n",
       "      <th>1</th>\n",
       "      <td>1</td>\n",
       "      <td>KX64629</td>\n",
       "      <td>California</td>\n",
       "      <td>2228.525238</td>\n",
       "      <td>No</td>\n",
       "      <td>Basic</td>\n",
       "      <td>College</td>\n",
       "      <td>2011-01-18</td>\n",
       "      <td>Unemployed</td>\n",
       "      <td>F</td>\n",
       "      <td>...</td>\n",
       "      <td>0.0</td>\n",
       "      <td>1</td>\n",
       "      <td>Personal Auto</td>\n",
       "      <td>Personal L3</td>\n",
       "      <td>Offer4</td>\n",
       "      <td>Call Center</td>\n",
       "      <td>744.924331</td>\n",
       "      <td>Four-Door Car</td>\n",
       "      <td>Medsize</td>\n",
       "      <td>NaN</td>\n",
       "    </tr>\n",
       "    <tr>\n",
       "      <th>2</th>\n",
       "      <td>2</td>\n",
       "      <td>LZ68649</td>\n",
       "      <td>Washington</td>\n",
       "      <td>14947.917300</td>\n",
       "      <td>No</td>\n",
       "      <td>Basic</td>\n",
       "      <td>Bachelor</td>\n",
       "      <td>2011-02-10</td>\n",
       "      <td>Employed</td>\n",
       "      <td>M</td>\n",
       "      <td>...</td>\n",
       "      <td>0.0</td>\n",
       "      <td>2</td>\n",
       "      <td>Personal Auto</td>\n",
       "      <td>Personal L3</td>\n",
       "      <td>Offer3</td>\n",
       "      <td>Call Center</td>\n",
       "      <td>480.000000</td>\n",
       "      <td>SUV</td>\n",
       "      <td>Medsize</td>\n",
       "      <td>A</td>\n",
       "    </tr>\n",
       "    <tr>\n",
       "      <th>3</th>\n",
       "      <td>3</td>\n",
       "      <td>XL78013</td>\n",
       "      <td>Oregon</td>\n",
       "      <td>22332.439460</td>\n",
       "      <td>Yes</td>\n",
       "      <td>Extended</td>\n",
       "      <td>College</td>\n",
       "      <td>2011-01-11</td>\n",
       "      <td>Employed</td>\n",
       "      <td>M</td>\n",
       "      <td>...</td>\n",
       "      <td>0.0</td>\n",
       "      <td>2</td>\n",
       "      <td>Corporate Auto</td>\n",
       "      <td>Corporate L3</td>\n",
       "      <td>Offer2</td>\n",
       "      <td>Branch</td>\n",
       "      <td>484.013411</td>\n",
       "      <td>Four-Door Car</td>\n",
       "      <td>Medsize</td>\n",
       "      <td>A</td>\n",
       "    </tr>\n",
       "    <tr>\n",
       "      <th>4</th>\n",
       "      <td>4</td>\n",
       "      <td>QA50777</td>\n",
       "      <td>Oregon</td>\n",
       "      <td>9025.067525</td>\n",
       "      <td>No</td>\n",
       "      <td>Premium</td>\n",
       "      <td>Bachelor</td>\n",
       "      <td>2011-01-17</td>\n",
       "      <td>Medical Leave</td>\n",
       "      <td>F</td>\n",
       "      <td>...</td>\n",
       "      <td>NaN</td>\n",
       "      <td>7</td>\n",
       "      <td>Personal Auto</td>\n",
       "      <td>Personal L2</td>\n",
       "      <td>Offer1</td>\n",
       "      <td>Branch</td>\n",
       "      <td>707.925645</td>\n",
       "      <td>Four-Door Car</td>\n",
       "      <td>Medsize</td>\n",
       "      <td>NaN</td>\n",
       "    </tr>\n",
       "  </tbody>\n",
       "</table>\n",
       "<p>5 rows × 26 columns</p>\n",
       "</div>"
      ],
      "text/plain": [
       "   Unnamed: 0 Customer       State  Customer Lifetime Value Response  \\\n",
       "0           0  DK49336     Arizona              4809.216960       No   \n",
       "1           1  KX64629  California              2228.525238       No   \n",
       "2           2  LZ68649  Washington             14947.917300       No   \n",
       "3           3  XL78013      Oregon             22332.439460      Yes   \n",
       "4           4  QA50777      Oregon              9025.067525       No   \n",
       "\n",
       "   Coverage Education Effective To Date EmploymentStatus Gender  ...  \\\n",
       "0     Basic   College        2011-02-18         Employed      M  ...   \n",
       "1     Basic   College        2011-01-18       Unemployed      F  ...   \n",
       "2     Basic  Bachelor        2011-02-10         Employed      M  ...   \n",
       "3  Extended   College        2011-01-11         Employed      M  ...   \n",
       "4   Premium  Bachelor        2011-01-17    Medical Leave      F  ...   \n",
       "\n",
       "   Number of Open Complaints Number of Policies     Policy Type        Policy  \\\n",
       "0                        0.0                  9  Corporate Auto  Corporate L3   \n",
       "1                        0.0                  1   Personal Auto   Personal L3   \n",
       "2                        0.0                  2   Personal Auto   Personal L3   \n",
       "3                        0.0                  2  Corporate Auto  Corporate L3   \n",
       "4                        NaN                  7   Personal Auto   Personal L2   \n",
       "\n",
       "   Renew Offer Type  Sales Channel  Total Claim Amount  Vehicle Class  \\\n",
       "0            Offer3          Agent          292.800000  Four-Door Car   \n",
       "1            Offer4    Call Center          744.924331  Four-Door Car   \n",
       "2            Offer3    Call Center          480.000000            SUV   \n",
       "3            Offer2         Branch          484.013411  Four-Door Car   \n",
       "4            Offer1         Branch          707.925645  Four-Door Car   \n",
       "\n",
       "  Vehicle Size Vehicle Type  \n",
       "0      Medsize          NaN  \n",
       "1      Medsize          NaN  \n",
       "2      Medsize            A  \n",
       "3      Medsize            A  \n",
       "4      Medsize          NaN  \n",
       "\n",
       "[5 rows x 26 columns]"
      ]
     },
     "execution_count": 3,
     "metadata": {},
     "output_type": "execute_result"
    }
   ],
   "source": [
    "data.head()"
   ]
  },
  {
   "cell_type": "code",
   "execution_count": 4,
   "metadata": {},
   "outputs": [
    {
     "data": {
      "text/plain": [
       "(10910, 26)"
      ]
     },
     "execution_count": 4,
     "metadata": {},
     "output_type": "execute_result"
    }
   ],
   "source": [
    "data.shape"
   ]
  },
  {
   "cell_type": "code",
   "execution_count": 5,
   "metadata": {},
   "outputs": [],
   "source": [
    "data.columns=[column.lower() for column in data.columns]"
   ]
  },
  {
   "cell_type": "code",
   "execution_count": 6,
   "metadata": {},
   "outputs": [
    {
     "data": {
      "text/html": [
       "<div>\n",
       "<style scoped>\n",
       "    .dataframe tbody tr th:only-of-type {\n",
       "        vertical-align: middle;\n",
       "    }\n",
       "\n",
       "    .dataframe tbody tr th {\n",
       "        vertical-align: top;\n",
       "    }\n",
       "\n",
       "    .dataframe thead th {\n",
       "        text-align: right;\n",
       "    }\n",
       "</style>\n",
       "<table border=\"1\" class=\"dataframe\">\n",
       "  <thead>\n",
       "    <tr style=\"text-align: right;\">\n",
       "      <th></th>\n",
       "      <th>unnamed: 0</th>\n",
       "      <th>customer</th>\n",
       "      <th>state</th>\n",
       "      <th>customer lifetime value</th>\n",
       "      <th>response</th>\n",
       "      <th>coverage</th>\n",
       "      <th>education</th>\n",
       "      <th>effective to date</th>\n",
       "      <th>employmentstatus</th>\n",
       "      <th>gender</th>\n",
       "      <th>...</th>\n",
       "      <th>number of open complaints</th>\n",
       "      <th>number of policies</th>\n",
       "      <th>policy type</th>\n",
       "      <th>policy</th>\n",
       "      <th>renew offer type</th>\n",
       "      <th>sales channel</th>\n",
       "      <th>total claim amount</th>\n",
       "      <th>vehicle class</th>\n",
       "      <th>vehicle size</th>\n",
       "      <th>vehicle type</th>\n",
       "    </tr>\n",
       "  </thead>\n",
       "  <tbody>\n",
       "    <tr>\n",
       "      <th>0</th>\n",
       "      <td>0</td>\n",
       "      <td>DK49336</td>\n",
       "      <td>Arizona</td>\n",
       "      <td>4809.216960</td>\n",
       "      <td>No</td>\n",
       "      <td>Basic</td>\n",
       "      <td>College</td>\n",
       "      <td>2011-02-18</td>\n",
       "      <td>Employed</td>\n",
       "      <td>M</td>\n",
       "      <td>...</td>\n",
       "      <td>0.0</td>\n",
       "      <td>9</td>\n",
       "      <td>Corporate Auto</td>\n",
       "      <td>Corporate L3</td>\n",
       "      <td>Offer3</td>\n",
       "      <td>Agent</td>\n",
       "      <td>292.800000</td>\n",
       "      <td>Four-Door Car</td>\n",
       "      <td>Medsize</td>\n",
       "      <td>NaN</td>\n",
       "    </tr>\n",
       "    <tr>\n",
       "      <th>1</th>\n",
       "      <td>1</td>\n",
       "      <td>KX64629</td>\n",
       "      <td>California</td>\n",
       "      <td>2228.525238</td>\n",
       "      <td>No</td>\n",
       "      <td>Basic</td>\n",
       "      <td>College</td>\n",
       "      <td>2011-01-18</td>\n",
       "      <td>Unemployed</td>\n",
       "      <td>F</td>\n",
       "      <td>...</td>\n",
       "      <td>0.0</td>\n",
       "      <td>1</td>\n",
       "      <td>Personal Auto</td>\n",
       "      <td>Personal L3</td>\n",
       "      <td>Offer4</td>\n",
       "      <td>Call Center</td>\n",
       "      <td>744.924331</td>\n",
       "      <td>Four-Door Car</td>\n",
       "      <td>Medsize</td>\n",
       "      <td>NaN</td>\n",
       "    </tr>\n",
       "    <tr>\n",
       "      <th>2</th>\n",
       "      <td>2</td>\n",
       "      <td>LZ68649</td>\n",
       "      <td>Washington</td>\n",
       "      <td>14947.917300</td>\n",
       "      <td>No</td>\n",
       "      <td>Basic</td>\n",
       "      <td>Bachelor</td>\n",
       "      <td>2011-02-10</td>\n",
       "      <td>Employed</td>\n",
       "      <td>M</td>\n",
       "      <td>...</td>\n",
       "      <td>0.0</td>\n",
       "      <td>2</td>\n",
       "      <td>Personal Auto</td>\n",
       "      <td>Personal L3</td>\n",
       "      <td>Offer3</td>\n",
       "      <td>Call Center</td>\n",
       "      <td>480.000000</td>\n",
       "      <td>SUV</td>\n",
       "      <td>Medsize</td>\n",
       "      <td>A</td>\n",
       "    </tr>\n",
       "    <tr>\n",
       "      <th>3</th>\n",
       "      <td>3</td>\n",
       "      <td>XL78013</td>\n",
       "      <td>Oregon</td>\n",
       "      <td>22332.439460</td>\n",
       "      <td>Yes</td>\n",
       "      <td>Extended</td>\n",
       "      <td>College</td>\n",
       "      <td>2011-01-11</td>\n",
       "      <td>Employed</td>\n",
       "      <td>M</td>\n",
       "      <td>...</td>\n",
       "      <td>0.0</td>\n",
       "      <td>2</td>\n",
       "      <td>Corporate Auto</td>\n",
       "      <td>Corporate L3</td>\n",
       "      <td>Offer2</td>\n",
       "      <td>Branch</td>\n",
       "      <td>484.013411</td>\n",
       "      <td>Four-Door Car</td>\n",
       "      <td>Medsize</td>\n",
       "      <td>A</td>\n",
       "    </tr>\n",
       "    <tr>\n",
       "      <th>4</th>\n",
       "      <td>4</td>\n",
       "      <td>QA50777</td>\n",
       "      <td>Oregon</td>\n",
       "      <td>9025.067525</td>\n",
       "      <td>No</td>\n",
       "      <td>Premium</td>\n",
       "      <td>Bachelor</td>\n",
       "      <td>2011-01-17</td>\n",
       "      <td>Medical Leave</td>\n",
       "      <td>F</td>\n",
       "      <td>...</td>\n",
       "      <td>NaN</td>\n",
       "      <td>7</td>\n",
       "      <td>Personal Auto</td>\n",
       "      <td>Personal L2</td>\n",
       "      <td>Offer1</td>\n",
       "      <td>Branch</td>\n",
       "      <td>707.925645</td>\n",
       "      <td>Four-Door Car</td>\n",
       "      <td>Medsize</td>\n",
       "      <td>NaN</td>\n",
       "    </tr>\n",
       "  </tbody>\n",
       "</table>\n",
       "<p>5 rows × 26 columns</p>\n",
       "</div>"
      ],
      "text/plain": [
       "   unnamed: 0 customer       state  customer lifetime value response  \\\n",
       "0           0  DK49336     Arizona              4809.216960       No   \n",
       "1           1  KX64629  California              2228.525238       No   \n",
       "2           2  LZ68649  Washington             14947.917300       No   \n",
       "3           3  XL78013      Oregon             22332.439460      Yes   \n",
       "4           4  QA50777      Oregon              9025.067525       No   \n",
       "\n",
       "   coverage education effective to date employmentstatus gender  ...  \\\n",
       "0     Basic   College        2011-02-18         Employed      M  ...   \n",
       "1     Basic   College        2011-01-18       Unemployed      F  ...   \n",
       "2     Basic  Bachelor        2011-02-10         Employed      M  ...   \n",
       "3  Extended   College        2011-01-11         Employed      M  ...   \n",
       "4   Premium  Bachelor        2011-01-17    Medical Leave      F  ...   \n",
       "\n",
       "   number of open complaints number of policies     policy type        policy  \\\n",
       "0                        0.0                  9  Corporate Auto  Corporate L3   \n",
       "1                        0.0                  1   Personal Auto   Personal L3   \n",
       "2                        0.0                  2   Personal Auto   Personal L3   \n",
       "3                        0.0                  2  Corporate Auto  Corporate L3   \n",
       "4                        NaN                  7   Personal Auto   Personal L2   \n",
       "\n",
       "   renew offer type  sales channel  total claim amount  vehicle class  \\\n",
       "0            Offer3          Agent          292.800000  Four-Door Car   \n",
       "1            Offer4    Call Center          744.924331  Four-Door Car   \n",
       "2            Offer3    Call Center          480.000000            SUV   \n",
       "3            Offer2         Branch          484.013411  Four-Door Car   \n",
       "4            Offer1         Branch          707.925645  Four-Door Car   \n",
       "\n",
       "  vehicle size vehicle type  \n",
       "0      Medsize          NaN  \n",
       "1      Medsize          NaN  \n",
       "2      Medsize            A  \n",
       "3      Medsize            A  \n",
       "4      Medsize          NaN  \n",
       "\n",
       "[5 rows x 26 columns]"
      ]
     },
     "execution_count": 6,
     "metadata": {},
     "output_type": "execute_result"
    }
   ],
   "source": [
    "data.head()"
   ]
  },
  {
   "cell_type": "code",
   "execution_count": 7,
   "metadata": {},
   "outputs": [
    {
     "data": {
      "text/plain": [
       "Index(['unnamed: 0', 'customer lifetime value', 'income',\n",
       "       'monthly premium auto', 'months since last claim',\n",
       "       'months since policy inception', 'number of open complaints',\n",
       "       'number of policies', 'total claim amount'],\n",
       "      dtype='object')"
      ]
     },
     "execution_count": 7,
     "metadata": {},
     "output_type": "execute_result"
    }
   ],
   "source": [
    "cols=data.columns\n",
    "numerical_cols=data._get_numeric_data().columns  #extract numerical columns\n",
    "numerical_cols\n"
   ]
  },
  {
   "cell_type": "code",
   "execution_count": 8,
   "metadata": {},
   "outputs": [
    {
     "data": {
      "text/plain": [
       "['effective to date',\n",
       " 'location code',\n",
       " 'customer',\n",
       " 'coverage',\n",
       " 'response',\n",
       " 'policy',\n",
       " 'marital status',\n",
       " 'employmentstatus',\n",
       " 'sales channel',\n",
       " 'state',\n",
       " 'gender',\n",
       " 'education',\n",
       " 'vehicle type',\n",
       " 'policy type',\n",
       " 'vehicle class',\n",
       " 'renew offer type',\n",
       " 'vehicle size']"
      ]
     },
     "execution_count": 8,
     "metadata": {},
     "output_type": "execute_result"
    }
   ],
   "source": [
    "list(set(cols)-set(numerical_cols))  #extract categorical columns"
   ]
  },
  {
   "cell_type": "code",
   "execution_count": 9,
   "metadata": {},
   "outputs": [
    {
     "data": {
      "text/plain": [
       "unnamed: 0                          0\n",
       "customer                            0\n",
       "state                             631\n",
       "customer lifetime value             0\n",
       "response                          631\n",
       "coverage                            0\n",
       "education                           0\n",
       "effective to date                   0\n",
       "employmentstatus                    0\n",
       "gender                              0\n",
       "income                              0\n",
       "location code                       0\n",
       "marital status                      0\n",
       "monthly premium auto                0\n",
       "months since last claim           633\n",
       "months since policy inception       0\n",
       "number of open complaints         633\n",
       "number of policies                  0\n",
       "policy type                         0\n",
       "policy                              0\n",
       "renew offer type                    0\n",
       "sales channel                       0\n",
       "total claim amount                  0\n",
       "vehicle class                     622\n",
       "vehicle size                      622\n",
       "vehicle type                     5482\n",
       "dtype: int64"
      ]
     },
     "execution_count": 9,
     "metadata": {},
     "output_type": "execute_result"
    }
   ],
   "source": [
    "data.isnull().sum()"
   ]
  },
  {
   "cell_type": "code",
   "execution_count": 10,
   "metadata": {},
   "outputs": [],
   "source": [
    "import time\n",
    "from datetime import datetime"
   ]
  },
  {
   "cell_type": "code",
   "execution_count": 11,
   "metadata": {},
   "outputs": [
    {
     "data": {
      "text/plain": [
       "0       2011-02-18\n",
       "1       2011-01-18\n",
       "2       2011-02-10\n",
       "3       2011-01-11\n",
       "4       2011-01-17\n",
       "           ...    \n",
       "10905   2011-01-19\n",
       "10906   2011-01-06\n",
       "10907   2011-02-06\n",
       "10908   2011-02-13\n",
       "10909   2011-01-08\n",
       "Name: effective to date, Length: 10910, dtype: datetime64[ns]"
      ]
     },
     "execution_count": 11,
     "metadata": {},
     "output_type": "execute_result"
    }
   ],
   "source": [
    "data['effective to date']"
   ]
  },
  {
   "cell_type": "code",
   "execution_count": 12,
   "metadata": {},
   "outputs": [],
   "source": [
    "data['Month']= data['effective to date'].dt.month"
   ]
  },
  {
   "cell_type": "code",
   "execution_count": 13,
   "metadata": {},
   "outputs": [
    {
     "name": "stdout",
     "output_type": "stream",
     "text": [
      "0        2\n",
      "1        1\n",
      "2        2\n",
      "3        1\n",
      "4        1\n",
      "        ..\n",
      "10905    1\n",
      "10906    1\n",
      "10907    2\n",
      "10908    2\n",
      "10909    1\n",
      "Name: Month, Length: 10910, dtype: int64\n"
     ]
    }
   ],
   "source": [
    "print(data['Month'])  #Column of months"
   ]
  },
  {
   "cell_type": "code",
   "execution_count": 14,
   "metadata": {},
   "outputs": [
    {
     "data": {
      "text/html": [
       "<div>\n",
       "<style scoped>\n",
       "    .dataframe tbody tr th:only-of-type {\n",
       "        vertical-align: middle;\n",
       "    }\n",
       "\n",
       "    .dataframe tbody tr th {\n",
       "        vertical-align: top;\n",
       "    }\n",
       "\n",
       "    .dataframe thead th {\n",
       "        text-align: right;\n",
       "    }\n",
       "</style>\n",
       "<table border=\"1\" class=\"dataframe\">\n",
       "  <thead>\n",
       "    <tr style=\"text-align: right;\">\n",
       "      <th></th>\n",
       "      <th>unnamed: 0</th>\n",
       "      <th>customer</th>\n",
       "      <th>state</th>\n",
       "      <th>customer lifetime value</th>\n",
       "      <th>response</th>\n",
       "      <th>coverage</th>\n",
       "      <th>education</th>\n",
       "      <th>effective to date</th>\n",
       "      <th>employmentstatus</th>\n",
       "      <th>gender</th>\n",
       "      <th>...</th>\n",
       "      <th>number of policies</th>\n",
       "      <th>policy type</th>\n",
       "      <th>policy</th>\n",
       "      <th>renew offer type</th>\n",
       "      <th>sales channel</th>\n",
       "      <th>total claim amount</th>\n",
       "      <th>vehicle class</th>\n",
       "      <th>vehicle size</th>\n",
       "      <th>vehicle type</th>\n",
       "      <th>Month</th>\n",
       "    </tr>\n",
       "  </thead>\n",
       "  <tbody>\n",
       "    <tr>\n",
       "      <th>0</th>\n",
       "      <td>0</td>\n",
       "      <td>DK49336</td>\n",
       "      <td>Arizona</td>\n",
       "      <td>4809.216960</td>\n",
       "      <td>No</td>\n",
       "      <td>Basic</td>\n",
       "      <td>College</td>\n",
       "      <td>2011-02-18</td>\n",
       "      <td>Employed</td>\n",
       "      <td>M</td>\n",
       "      <td>...</td>\n",
       "      <td>9</td>\n",
       "      <td>Corporate Auto</td>\n",
       "      <td>Corporate L3</td>\n",
       "      <td>Offer3</td>\n",
       "      <td>Agent</td>\n",
       "      <td>292.800000</td>\n",
       "      <td>Four-Door Car</td>\n",
       "      <td>Medsize</td>\n",
       "      <td>NaN</td>\n",
       "      <td>2</td>\n",
       "    </tr>\n",
       "    <tr>\n",
       "      <th>1</th>\n",
       "      <td>1</td>\n",
       "      <td>KX64629</td>\n",
       "      <td>California</td>\n",
       "      <td>2228.525238</td>\n",
       "      <td>No</td>\n",
       "      <td>Basic</td>\n",
       "      <td>College</td>\n",
       "      <td>2011-01-18</td>\n",
       "      <td>Unemployed</td>\n",
       "      <td>F</td>\n",
       "      <td>...</td>\n",
       "      <td>1</td>\n",
       "      <td>Personal Auto</td>\n",
       "      <td>Personal L3</td>\n",
       "      <td>Offer4</td>\n",
       "      <td>Call Center</td>\n",
       "      <td>744.924331</td>\n",
       "      <td>Four-Door Car</td>\n",
       "      <td>Medsize</td>\n",
       "      <td>NaN</td>\n",
       "      <td>1</td>\n",
       "    </tr>\n",
       "    <tr>\n",
       "      <th>2</th>\n",
       "      <td>2</td>\n",
       "      <td>LZ68649</td>\n",
       "      <td>Washington</td>\n",
       "      <td>14947.917300</td>\n",
       "      <td>No</td>\n",
       "      <td>Basic</td>\n",
       "      <td>Bachelor</td>\n",
       "      <td>2011-02-10</td>\n",
       "      <td>Employed</td>\n",
       "      <td>M</td>\n",
       "      <td>...</td>\n",
       "      <td>2</td>\n",
       "      <td>Personal Auto</td>\n",
       "      <td>Personal L3</td>\n",
       "      <td>Offer3</td>\n",
       "      <td>Call Center</td>\n",
       "      <td>480.000000</td>\n",
       "      <td>SUV</td>\n",
       "      <td>Medsize</td>\n",
       "      <td>A</td>\n",
       "      <td>2</td>\n",
       "    </tr>\n",
       "    <tr>\n",
       "      <th>3</th>\n",
       "      <td>3</td>\n",
       "      <td>XL78013</td>\n",
       "      <td>Oregon</td>\n",
       "      <td>22332.439460</td>\n",
       "      <td>Yes</td>\n",
       "      <td>Extended</td>\n",
       "      <td>College</td>\n",
       "      <td>2011-01-11</td>\n",
       "      <td>Employed</td>\n",
       "      <td>M</td>\n",
       "      <td>...</td>\n",
       "      <td>2</td>\n",
       "      <td>Corporate Auto</td>\n",
       "      <td>Corporate L3</td>\n",
       "      <td>Offer2</td>\n",
       "      <td>Branch</td>\n",
       "      <td>484.013411</td>\n",
       "      <td>Four-Door Car</td>\n",
       "      <td>Medsize</td>\n",
       "      <td>A</td>\n",
       "      <td>1</td>\n",
       "    </tr>\n",
       "    <tr>\n",
       "      <th>4</th>\n",
       "      <td>4</td>\n",
       "      <td>QA50777</td>\n",
       "      <td>Oregon</td>\n",
       "      <td>9025.067525</td>\n",
       "      <td>No</td>\n",
       "      <td>Premium</td>\n",
       "      <td>Bachelor</td>\n",
       "      <td>2011-01-17</td>\n",
       "      <td>Medical Leave</td>\n",
       "      <td>F</td>\n",
       "      <td>...</td>\n",
       "      <td>7</td>\n",
       "      <td>Personal Auto</td>\n",
       "      <td>Personal L2</td>\n",
       "      <td>Offer1</td>\n",
       "      <td>Branch</td>\n",
       "      <td>707.925645</td>\n",
       "      <td>Four-Door Car</td>\n",
       "      <td>Medsize</td>\n",
       "      <td>NaN</td>\n",
       "      <td>1</td>\n",
       "    </tr>\n",
       "    <tr>\n",
       "      <th>...</th>\n",
       "      <td>...</td>\n",
       "      <td>...</td>\n",
       "      <td>...</td>\n",
       "      <td>...</td>\n",
       "      <td>...</td>\n",
       "      <td>...</td>\n",
       "      <td>...</td>\n",
       "      <td>...</td>\n",
       "      <td>...</td>\n",
       "      <td>...</td>\n",
       "      <td>...</td>\n",
       "      <td>...</td>\n",
       "      <td>...</td>\n",
       "      <td>...</td>\n",
       "      <td>...</td>\n",
       "      <td>...</td>\n",
       "      <td>...</td>\n",
       "      <td>...</td>\n",
       "      <td>...</td>\n",
       "      <td>...</td>\n",
       "      <td>...</td>\n",
       "    </tr>\n",
       "    <tr>\n",
       "      <th>10905</th>\n",
       "      <td>10905</td>\n",
       "      <td>FE99816</td>\n",
       "      <td>Nevada</td>\n",
       "      <td>15563.369440</td>\n",
       "      <td>No</td>\n",
       "      <td>Premium</td>\n",
       "      <td>Bachelor</td>\n",
       "      <td>2011-01-19</td>\n",
       "      <td>Unemployed</td>\n",
       "      <td>F</td>\n",
       "      <td>...</td>\n",
       "      <td>7</td>\n",
       "      <td>Personal Auto</td>\n",
       "      <td>Personal L1</td>\n",
       "      <td>Offer3</td>\n",
       "      <td>Web</td>\n",
       "      <td>1214.400000</td>\n",
       "      <td>Luxury Car</td>\n",
       "      <td>Medsize</td>\n",
       "      <td>A</td>\n",
       "      <td>1</td>\n",
       "    </tr>\n",
       "    <tr>\n",
       "      <th>10906</th>\n",
       "      <td>10906</td>\n",
       "      <td>KX53892</td>\n",
       "      <td>Oregon</td>\n",
       "      <td>5259.444853</td>\n",
       "      <td>No</td>\n",
       "      <td>Basic</td>\n",
       "      <td>College</td>\n",
       "      <td>2011-01-06</td>\n",
       "      <td>Employed</td>\n",
       "      <td>F</td>\n",
       "      <td>...</td>\n",
       "      <td>6</td>\n",
       "      <td>Personal Auto</td>\n",
       "      <td>Personal L3</td>\n",
       "      <td>Offer2</td>\n",
       "      <td>Branch</td>\n",
       "      <td>273.018929</td>\n",
       "      <td>Four-Door Car</td>\n",
       "      <td>Medsize</td>\n",
       "      <td>A</td>\n",
       "      <td>1</td>\n",
       "    </tr>\n",
       "    <tr>\n",
       "      <th>10907</th>\n",
       "      <td>10907</td>\n",
       "      <td>TL39050</td>\n",
       "      <td>Arizona</td>\n",
       "      <td>23893.304100</td>\n",
       "      <td>No</td>\n",
       "      <td>Extended</td>\n",
       "      <td>Bachelor</td>\n",
       "      <td>2011-02-06</td>\n",
       "      <td>Employed</td>\n",
       "      <td>F</td>\n",
       "      <td>...</td>\n",
       "      <td>2</td>\n",
       "      <td>Corporate Auto</td>\n",
       "      <td>Corporate L3</td>\n",
       "      <td>Offer1</td>\n",
       "      <td>Web</td>\n",
       "      <td>381.306996</td>\n",
       "      <td>Luxury SUV</td>\n",
       "      <td>Medsize</td>\n",
       "      <td>NaN</td>\n",
       "      <td>2</td>\n",
       "    </tr>\n",
       "    <tr>\n",
       "      <th>10908</th>\n",
       "      <td>10908</td>\n",
       "      <td>WA60547</td>\n",
       "      <td>California</td>\n",
       "      <td>11971.977650</td>\n",
       "      <td>No</td>\n",
       "      <td>Premium</td>\n",
       "      <td>College</td>\n",
       "      <td>2011-02-13</td>\n",
       "      <td>Employed</td>\n",
       "      <td>F</td>\n",
       "      <td>...</td>\n",
       "      <td>6</td>\n",
       "      <td>Personal Auto</td>\n",
       "      <td>Personal L1</td>\n",
       "      <td>Offer1</td>\n",
       "      <td>Branch</td>\n",
       "      <td>618.288849</td>\n",
       "      <td>SUV</td>\n",
       "      <td>Medsize</td>\n",
       "      <td>A</td>\n",
       "      <td>2</td>\n",
       "    </tr>\n",
       "    <tr>\n",
       "      <th>10909</th>\n",
       "      <td>10909</td>\n",
       "      <td>IV32877</td>\n",
       "      <td>NaN</td>\n",
       "      <td>6857.519928</td>\n",
       "      <td>NaN</td>\n",
       "      <td>Basic</td>\n",
       "      <td>Bachelor</td>\n",
       "      <td>2011-01-08</td>\n",
       "      <td>Unemployed</td>\n",
       "      <td>M</td>\n",
       "      <td>...</td>\n",
       "      <td>3</td>\n",
       "      <td>Personal Auto</td>\n",
       "      <td>Personal L1</td>\n",
       "      <td>Offer4</td>\n",
       "      <td>Web</td>\n",
       "      <td>1021.719397</td>\n",
       "      <td>SUV</td>\n",
       "      <td>Medsize</td>\n",
       "      <td>NaN</td>\n",
       "      <td>1</td>\n",
       "    </tr>\n",
       "  </tbody>\n",
       "</table>\n",
       "<p>10910 rows × 27 columns</p>\n",
       "</div>"
      ],
      "text/plain": [
       "       unnamed: 0 customer       state  customer lifetime value response  \\\n",
       "0               0  DK49336     Arizona              4809.216960       No   \n",
       "1               1  KX64629  California              2228.525238       No   \n",
       "2               2  LZ68649  Washington             14947.917300       No   \n",
       "3               3  XL78013      Oregon             22332.439460      Yes   \n",
       "4               4  QA50777      Oregon              9025.067525       No   \n",
       "...           ...      ...         ...                      ...      ...   \n",
       "10905       10905  FE99816      Nevada             15563.369440       No   \n",
       "10906       10906  KX53892      Oregon              5259.444853       No   \n",
       "10907       10907  TL39050     Arizona             23893.304100       No   \n",
       "10908       10908  WA60547  California             11971.977650       No   \n",
       "10909       10909  IV32877         NaN              6857.519928      NaN   \n",
       "\n",
       "       coverage education effective to date employmentstatus gender  ...  \\\n",
       "0         Basic   College        2011-02-18         Employed      M  ...   \n",
       "1         Basic   College        2011-01-18       Unemployed      F  ...   \n",
       "2         Basic  Bachelor        2011-02-10         Employed      M  ...   \n",
       "3      Extended   College        2011-01-11         Employed      M  ...   \n",
       "4       Premium  Bachelor        2011-01-17    Medical Leave      F  ...   \n",
       "...         ...       ...               ...              ...    ...  ...   \n",
       "10905   Premium  Bachelor        2011-01-19       Unemployed      F  ...   \n",
       "10906     Basic   College        2011-01-06         Employed      F  ...   \n",
       "10907  Extended  Bachelor        2011-02-06         Employed      F  ...   \n",
       "10908   Premium   College        2011-02-13         Employed      F  ...   \n",
       "10909     Basic  Bachelor        2011-01-08       Unemployed      M  ...   \n",
       "\n",
       "       number of policies     policy type        policy  renew offer type  \\\n",
       "0                       9  Corporate Auto  Corporate L3            Offer3   \n",
       "1                       1   Personal Auto   Personal L3            Offer4   \n",
       "2                       2   Personal Auto   Personal L3            Offer3   \n",
       "3                       2  Corporate Auto  Corporate L3            Offer2   \n",
       "4                       7   Personal Auto   Personal L2            Offer1   \n",
       "...                   ...             ...           ...               ...   \n",
       "10905                   7   Personal Auto   Personal L1            Offer3   \n",
       "10906                   6   Personal Auto   Personal L3            Offer2   \n",
       "10907                   2  Corporate Auto  Corporate L3            Offer1   \n",
       "10908                   6   Personal Auto   Personal L1            Offer1   \n",
       "10909                   3   Personal Auto   Personal L1            Offer4   \n",
       "\n",
       "       sales channel  total claim amount  vehicle class  vehicle size  \\\n",
       "0              Agent          292.800000  Four-Door Car       Medsize   \n",
       "1        Call Center          744.924331  Four-Door Car       Medsize   \n",
       "2        Call Center          480.000000            SUV       Medsize   \n",
       "3             Branch          484.013411  Four-Door Car       Medsize   \n",
       "4             Branch          707.925645  Four-Door Car       Medsize   \n",
       "...              ...                 ...            ...           ...   \n",
       "10905            Web         1214.400000     Luxury Car       Medsize   \n",
       "10906         Branch          273.018929  Four-Door Car       Medsize   \n",
       "10907            Web          381.306996     Luxury SUV       Medsize   \n",
       "10908         Branch          618.288849            SUV       Medsize   \n",
       "10909            Web         1021.719397            SUV       Medsize   \n",
       "\n",
       "      vehicle type Month  \n",
       "0              NaN     2  \n",
       "1              NaN     1  \n",
       "2                A     2  \n",
       "3                A     1  \n",
       "4              NaN     1  \n",
       "...            ...   ...  \n",
       "10905            A     1  \n",
       "10906            A     1  \n",
       "10907          NaN     2  \n",
       "10908            A     2  \n",
       "10909          NaN     1  \n",
       "\n",
       "[10910 rows x 27 columns]"
      ]
     },
     "execution_count": 14,
     "metadata": {},
     "output_type": "execute_result"
    }
   ],
   "source": [
    "data[data['effective to date'].dt.quarter == 1] #chek only for the first quarter of year"
   ]
  },
  {
   "cell_type": "code",
   "execution_count": 15,
   "metadata": {},
   "outputs": [],
   "source": [
    "first_quart_data=data[data['effective to date'].dt.quarter == 1]"
   ]
  },
  {
   "cell_type": "code",
   "execution_count": 16,
   "metadata": {},
   "outputs": [
    {
     "name": "stdout",
     "output_type": "stream",
     "text": [
      "<function first_quart_data at 0x00000205DB54E280>\n"
     ]
    }
   ],
   "source": [
    "def first_quart_data(x):\n",
    "    if x in ['Month']== 1:\n",
    "        return 'January'\n",
    "    elif x in ['Month']== 2:\n",
    "        return 'February'\n",
    "    else:\n",
    "        return 'March'\n",
    "print(first_quart_data)"
   ]
  },
  {
   "cell_type": "code",
   "execution_count": 17,
   "metadata": {},
   "outputs": [],
   "source": [
    "data1=pd.read_excel('C:\\\\Users\\hecto\\PreWorks\\W1\\Labs/mca.xlsx')"
   ]
  },
  {
   "cell_type": "code",
   "execution_count": 18,
   "metadata": {},
   "outputs": [
    {
     "data": {
      "text/html": [
       "<div>\n",
       "<style scoped>\n",
       "    .dataframe tbody tr th:only-of-type {\n",
       "        vertical-align: middle;\n",
       "    }\n",
       "\n",
       "    .dataframe tbody tr th {\n",
       "        vertical-align: top;\n",
       "    }\n",
       "\n",
       "    .dataframe thead th {\n",
       "        text-align: right;\n",
       "    }\n",
       "</style>\n",
       "<table border=\"1\" class=\"dataframe\">\n",
       "  <thead>\n",
       "    <tr style=\"text-align: right;\">\n",
       "      <th></th>\n",
       "      <th>Customer</th>\n",
       "      <th>State</th>\n",
       "      <th>Customer Lifetime Value</th>\n",
       "      <th>Response</th>\n",
       "      <th>Coverage</th>\n",
       "      <th>Education</th>\n",
       "      <th>Effective To Date</th>\n",
       "      <th>EmploymentStatus</th>\n",
       "      <th>Gender</th>\n",
       "      <th>Income</th>\n",
       "      <th>...</th>\n",
       "      <th>Months Since Policy Inception</th>\n",
       "      <th>Number of Open Complaints</th>\n",
       "      <th>Number of Policies</th>\n",
       "      <th>Policy Type</th>\n",
       "      <th>Policy</th>\n",
       "      <th>Renew Offer Type</th>\n",
       "      <th>Sales Channel</th>\n",
       "      <th>Total Claim Amount</th>\n",
       "      <th>Vehicle Class</th>\n",
       "      <th>Vehicle Size</th>\n",
       "    </tr>\n",
       "  </thead>\n",
       "  <tbody>\n",
       "    <tr>\n",
       "      <th>0</th>\n",
       "      <td>BU79786</td>\n",
       "      <td>Washington</td>\n",
       "      <td>2763.519279</td>\n",
       "      <td>No</td>\n",
       "      <td>Basic</td>\n",
       "      <td>Bachelor</td>\n",
       "      <td>2/24/11</td>\n",
       "      <td>Employed</td>\n",
       "      <td>F</td>\n",
       "      <td>56274</td>\n",
       "      <td>...</td>\n",
       "      <td>5</td>\n",
       "      <td>0</td>\n",
       "      <td>1</td>\n",
       "      <td>Corporate Auto</td>\n",
       "      <td>Corporate L3</td>\n",
       "      <td>Offer1</td>\n",
       "      <td>Agent</td>\n",
       "      <td>384.811147</td>\n",
       "      <td>Two-Door Car</td>\n",
       "      <td>Medsize</td>\n",
       "    </tr>\n",
       "    <tr>\n",
       "      <th>1</th>\n",
       "      <td>QZ44356</td>\n",
       "      <td>Arizona</td>\n",
       "      <td>6979.535903</td>\n",
       "      <td>No</td>\n",
       "      <td>Extended</td>\n",
       "      <td>Bachelor</td>\n",
       "      <td>1/31/11</td>\n",
       "      <td>Unemployed</td>\n",
       "      <td>F</td>\n",
       "      <td>0</td>\n",
       "      <td>...</td>\n",
       "      <td>42</td>\n",
       "      <td>0</td>\n",
       "      <td>8</td>\n",
       "      <td>Personal Auto</td>\n",
       "      <td>Personal L3</td>\n",
       "      <td>Offer3</td>\n",
       "      <td>Agent</td>\n",
       "      <td>1131.464935</td>\n",
       "      <td>Four-Door Car</td>\n",
       "      <td>Medsize</td>\n",
       "    </tr>\n",
       "    <tr>\n",
       "      <th>2</th>\n",
       "      <td>AI49188</td>\n",
       "      <td>Nevada</td>\n",
       "      <td>12887.431650</td>\n",
       "      <td>No</td>\n",
       "      <td>Premium</td>\n",
       "      <td>Bachelor</td>\n",
       "      <td>2/19/11</td>\n",
       "      <td>Employed</td>\n",
       "      <td>F</td>\n",
       "      <td>48767</td>\n",
       "      <td>...</td>\n",
       "      <td>38</td>\n",
       "      <td>0</td>\n",
       "      <td>2</td>\n",
       "      <td>Personal Auto</td>\n",
       "      <td>Personal L3</td>\n",
       "      <td>Offer1</td>\n",
       "      <td>Agent</td>\n",
       "      <td>566.472247</td>\n",
       "      <td>Two-Door Car</td>\n",
       "      <td>Medsize</td>\n",
       "    </tr>\n",
       "    <tr>\n",
       "      <th>3</th>\n",
       "      <td>WW63253</td>\n",
       "      <td>California</td>\n",
       "      <td>7645.861827</td>\n",
       "      <td>No</td>\n",
       "      <td>Basic</td>\n",
       "      <td>Bachelor</td>\n",
       "      <td>1/20/11</td>\n",
       "      <td>Unemployed</td>\n",
       "      <td>M</td>\n",
       "      <td>0</td>\n",
       "      <td>...</td>\n",
       "      <td>65</td>\n",
       "      <td>0</td>\n",
       "      <td>7</td>\n",
       "      <td>Corporate Auto</td>\n",
       "      <td>Corporate L2</td>\n",
       "      <td>Offer1</td>\n",
       "      <td>Call Center</td>\n",
       "      <td>529.881344</td>\n",
       "      <td>SUV</td>\n",
       "      <td>Medsize</td>\n",
       "    </tr>\n",
       "    <tr>\n",
       "      <th>4</th>\n",
       "      <td>HB64268</td>\n",
       "      <td>Washington</td>\n",
       "      <td>2813.692575</td>\n",
       "      <td>No</td>\n",
       "      <td>Basic</td>\n",
       "      <td>Bachelor</td>\n",
       "      <td>2/3/11</td>\n",
       "      <td>Employed</td>\n",
       "      <td>M</td>\n",
       "      <td>43836</td>\n",
       "      <td>...</td>\n",
       "      <td>44</td>\n",
       "      <td>0</td>\n",
       "      <td>1</td>\n",
       "      <td>Personal Auto</td>\n",
       "      <td>Personal L1</td>\n",
       "      <td>Offer1</td>\n",
       "      <td>Agent</td>\n",
       "      <td>138.130879</td>\n",
       "      <td>Four-Door Car</td>\n",
       "      <td>Medsize</td>\n",
       "    </tr>\n",
       "  </tbody>\n",
       "</table>\n",
       "<p>5 rows × 24 columns</p>\n",
       "</div>"
      ],
      "text/plain": [
       "  Customer       State  Customer Lifetime Value Response  Coverage Education  \\\n",
       "0  BU79786  Washington              2763.519279       No     Basic  Bachelor   \n",
       "1  QZ44356     Arizona              6979.535903       No  Extended  Bachelor   \n",
       "2  AI49188      Nevada             12887.431650       No   Premium  Bachelor   \n",
       "3  WW63253  California              7645.861827       No     Basic  Bachelor   \n",
       "4  HB64268  Washington              2813.692575       No     Basic  Bachelor   \n",
       "\n",
       "  Effective To Date EmploymentStatus Gender  Income  ...  \\\n",
       "0           2/24/11         Employed      F   56274  ...   \n",
       "1           1/31/11       Unemployed      F       0  ...   \n",
       "2           2/19/11         Employed      F   48767  ...   \n",
       "3           1/20/11       Unemployed      M       0  ...   \n",
       "4            2/3/11         Employed      M   43836  ...   \n",
       "\n",
       "  Months Since Policy Inception Number of Open Complaints  Number of Policies  \\\n",
       "0                             5                         0                   1   \n",
       "1                            42                         0                   8   \n",
       "2                            38                         0                   2   \n",
       "3                            65                         0                   7   \n",
       "4                            44                         0                   1   \n",
       "\n",
       "      Policy Type        Policy  Renew Offer Type  Sales Channel  \\\n",
       "0  Corporate Auto  Corporate L3            Offer1          Agent   \n",
       "1   Personal Auto   Personal L3            Offer3          Agent   \n",
       "2   Personal Auto   Personal L3            Offer1          Agent   \n",
       "3  Corporate Auto  Corporate L2            Offer1    Call Center   \n",
       "4   Personal Auto   Personal L1            Offer1          Agent   \n",
       "\n",
       "  Total Claim Amount  Vehicle Class Vehicle Size  \n",
       "0         384.811147   Two-Door Car      Medsize  \n",
       "1        1131.464935  Four-Door Car      Medsize  \n",
       "2         566.472247   Two-Door Car      Medsize  \n",
       "3         529.881344            SUV      Medsize  \n",
       "4         138.130879  Four-Door Car      Medsize  \n",
       "\n",
       "[5 rows x 24 columns]"
      ]
     },
     "execution_count": 18,
     "metadata": {},
     "output_type": "execute_result"
    }
   ],
   "source": [
    "data1.head()"
   ]
  },
  {
   "cell_type": "code",
   "execution_count": 19,
   "metadata": {},
   "outputs": [],
   "source": [
    "import matplotlib.pyplot as plt\n",
    "%matplotlib inline "
   ]
  },
  {
   "cell_type": "code",
   "execution_count": 20,
   "metadata": {
    "scrolled": true
   },
   "outputs": [
    {
     "data": {
      "image/png": "[encoded data removed]",
      "text/plain": [
       "<Figure size 432x288 with 1 Axes>"
      ]
     },
     "metadata": {
      "needs_background": "light"
     },
     "output_type": "display_data"
    }
   ],
   "source": [
    "data1['Response'].hist()\n",
    "plt.show()"
   ]
  },
  {
   "cell_type": "code",
   "execution_count": 21,
   "metadata": {
    "run_control": {
     "marked": true
    },
    "scrolled": true
   },
   "outputs": [
    {
     "data": {
      "text/plain": [
       "<AxesSubplot:xlabel='Response'>"
      ]
     },
     "execution_count": 21,
     "metadata": {},
     "output_type": "execute_result"
    },
    {
     "data": {
      "image/png": "[encoded data removed]",
      "text/plain": [
       "<Figure size 432x288 with 1 Axes>"
      ]
     },
     "metadata": {
      "needs_background": "light"
     },
     "output_type": "display_data"
    }
   ],
   "source": [
    "pd.crosstab(data1['Response'],data1['Sales Channel'],normalize='index').plot.bar(stacked=True)"
   ]
  },
  {
   "cell_type": "code",
   "execution_count": 22,
   "metadata": {},
   "outputs": [
    {
     "data": {
      "text/plain": [
       "<AxesSubplot:xlabel='Response', ylabel='Total Claim Amount'>"
      ]
     },
     "execution_count": 22,
     "metadata": {},
     "output_type": "execute_result"
    },
    {
     "data": {
      "image/png": "[encoded data removed]",
      "text/plain": [
       "<Figure size 432x288 with 1 Axes>"
      ]
     },
     "metadata": {
      "needs_background": "light"
     },
     "output_type": "display_data"
    }
   ],
   "source": [
    "import matplotlib.pyplot as plt\n",
    "import seaborn as sns\n",
    "import pandas as pd\n",
    "sns.boxplot(x=data1['Response']=='No',y=data1['Total Claim Amount'])\n"
   ]
  },
  {
   "cell_type": "code",
   "execution_count": 23,
   "metadata": {},
   "outputs": [
    {
     "data": {
      "text/plain": [
       "<AxesSubplot:xlabel='Response', ylabel='Total Claim Amount'>"
      ]
     },
     "execution_count": 23,
     "metadata": {},
     "output_type": "execute_result"
    },
    {
     "data": {
      "image/png": "[encoded data removed]",
      "text/plain": [
       "<Figure size 432x288 with 1 Axes>"
      ]
     },
     "metadata": {
      "needs_background": "light"
     },
     "output_type": "display_data"
    }
   ],
   "source": [
    "sns.boxplot(x=data1['Response']=='Yes',y=data1['Total Claim Amount'])"
   ]
  },
  {
   "cell_type": "code",
   "execution_count": 34,
   "metadata": {},
   "outputs": [
    {
     "data": {
      "text/plain": [
       "<AxesSubplot:xlabel='Total Claim Amount', ylabel='Response'>"
      ]
     },
     "execution_count": 34,
     "metadata": {},
     "output_type": "execute_result"
    },
    {
     "data": {
      "image/png": "[encoded data removed]",
      "text/plain": [
       "<Figure size 432x288 with 1 Axes>"
      ]
     },
     "metadata": {
      "needs_background": "light"
     },
     "output_type": "display_data"
    }
   ],
   "source": [
    "sns.boxplot(x=data1['Total Claim Amount'],y=data1['Response'])"
   ]
  },
  {
   "cell_type": "code",
   "execution_count": 25,
   "metadata": {},
   "outputs": [
    {
     "data": {
      "text/plain": [
       "<AxesSubplot:xlabel='Total Claim Amount', ylabel='Response'>"
      ]
     },
     "execution_count": 25,
     "metadata": {},
     "output_type": "execute_result"
    },
    {
     "data": {
      "image/png": "[encoded data removed]",
      "text/plain": [
       "<Figure size 432x288 with 1 Axes>"
      ]
     },
     "metadata": {
      "needs_background": "light"
     },
     "output_type": "display_data"
    }
   ],
   "source": [
    "sns.histplot(x=data1['Total Claim Amount'],y=data1['Response'], hue=('Total Claim Aomunt').index, multiple='stack')"
   ]
  },
  {
   "cell_type": "code",
   "execution_count": 26,
   "metadata": {},
   "outputs": [
    {
     "data": {
      "text/plain": [
       "<AxesSubplot:xlabel='Income', ylabel='Response'>"
      ]
     },
     "execution_count": 26,
     "metadata": {},
     "output_type": "execute_result"
    },
    {
     "data": {
      "image/png": "[encoded data removed]",
      "text/plain": [
       "<Figure size 432x288 with 1 Axes>"
      ]
     },
     "metadata": {
      "needs_background": "light"
     },
     "output_type": "display_data"
    }
   ],
   "source": [
    "sns.histplot(x=data1['Income'],y=data1['Response'], hue=('Total Claim Aomunt').index, multiple='stack')"
   ]
  },
  {
   "cell_type": "code",
   "execution_count": 67,
   "metadata": {},
   "outputs": [
    {
     "data": {
      "image/png": "[encoded data removed]",
      "text/plain": [
       "<Figure size 432x288 with 1 Axes>"
      ]
     },
     "metadata": {
      "needs_background": "light"
     },
     "output_type": "display_data"
    }
   ],
   "source": [
    "colors=np.random.rand(9134)\n",
    "plt.scatter(data1['Total Claim Amount'],data1['Income'], c=colors, alpha=0.2, s=3)\n",
    "plt.xlabel('Total Claim Amount')\n",
    "plt.ylabel('Income')\n",
    "plt.show()"
   ]
  },
  {
   "cell_type": "code",
   "execution_count": 77,
   "metadata": {},
   "outputs": [
    {
     "data": {
      "image/png": "[encoded data removed]",
      "text/plain": [
       "<Figure size 432x288 with 1 Axes>"
      ]
     },
     "metadata": {
      "needs_background": "light"
     },
     "output_type": "display_data"
    }
   ],
   "source": [
    "\n",
    "plt.scatter(data1['Total Claim Amount'],data1['Income'], c=colors,marker='*',alpha=0.5)\n",
    "plt.xlabel('Total Claim Amount')\n",
    "plt.ylabel('Income')\n",
    "plt.show()"
   ]
  },
  {
   "cell_type": "code",
   "execution_count": null,
   "metadata": {},
   "outputs": [],
   "source": []
  }
 ],
 "metadata": {
  "kernelspec": {
   "display_name": "Python 3",
   "language": "python",
   "name": "python3"
  },
  "language_info": {
   "codemirror_mode": {
    "name": "ipython",
    "version": 3
   },
   "file_extension": ".py",
   "mimetype": "text/x-python",
   "name": "python",
   "nbconvert_exporter": "python",
   "pygments_lexer": "ipython3",
   "version": "3.8.5"
  },
  "latex_envs": {
   "LaTeX_envs_menu_present": true,
   "autoclose": true,
   "autocomplete": true,
   "bibliofile": "biblio.bib",
   "cite_by": "apalike",
   "current_citInitial": 1,
   "eqLabelWithNumbers": true,
   "eqNumInitial": 1,
   "hotkeys": {
    "equation": "Ctrl-E",
    "itemize": "Ctrl-I"
   },
   "labels_anchors": false,
   "latex_user_defs": false,
   "report_style_numbering": false,
   "user_envs_cfg": true
  },
  "toc": {
   "base_numbering": 1,
   "nav_menu": {},
   "number_sections": true,
   "sideBar": true,
   "skip_h1_title": false,
   "title_cell": "Table of Contents",
   "title_sidebar": "Contents",
   "toc_cell": false,
   "toc_position": {},
   "toc_section_display": true,
   "toc_window_display": false
  },
  "varInspector": {
   "cols": {
    "lenName": 16,
    "lenType": 16,
    "lenVar": 40
   },
   "kernels_config": {
    "python": {
     "delete_cmd_postfix": "",
     "delete_cmd_prefix": "del ",
     "library": "var_list.py",
     "varRefreshCmd": "print(var_dic_list())"
    },
    "r": {
     "delete_cmd_postfix": ") ",
     "delete_cmd_prefix": "rm(",
     "library": "var_list.r",
     "varRefreshCmd": "cat(var_dic_list()) "
    }
   },
   "types_to_exclude": [
    "module",
    "function",
    "builtin_function_or_method",
    "instance",
    "_Feature"
   ],
   "window_display": false
  }
 },
 "nbformat": 4,
 "nbformat_minor": 5
}
